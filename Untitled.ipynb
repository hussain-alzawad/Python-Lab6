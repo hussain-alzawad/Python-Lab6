{
 "cells": [
  {
   "cell_type": "markdown",
   "id": "43ba2342",
   "metadata": {},
   "source": [
    "## Lab 6"
   ]
  },
  {
   "cell_type": "code",
   "execution_count": 1,
   "id": "e55e9862",
   "metadata": {},
   "outputs": [],
   "source": [
    "phoneBook ={\n",
    "    \"Amal\":1111111111,\n",
    "\"Mohammed\":2222222222,\n",
    "\"Khadijah\":3333333333,\n",
    "\"Abdullah\":4444444444,\n",
    "\"Rawan\":5555555555,\n",
    "\"Faisal\":6666666666,\n",
    "\"Layla\":7777777777\n",
    "}"
   ]
  },
  {
   "cell_type": "code",
   "execution_count": 2,
   "id": "edcbceb6",
   "metadata": {},
   "outputs": [],
   "source": [
    "numbers = list(phoneBook.values())"
   ]
  },
  {
   "cell_type": "code",
   "execution_count": 3,
   "id": "69c44492",
   "metadata": {},
   "outputs": [],
   "source": [
    "numFound = False"
   ]
  },
  {
   "cell_type": "code",
   "execution_count": 4,
   "id": "a664eaea",
   "metadata": {},
   "outputs": [
    {
     "name": "stdout",
     "output_type": "stream",
     "text": [
      "Please Enter a number to search the records: 555555555\n",
      "This is an invalid number\n",
      "Please Enter a number to search the records: 55555ssssss\n",
      "This is an invalid number\n",
      "Please Enter a number to search the records: 5555555550\n",
      "Sorry, the number is not found\n",
      "Please Enter a number to search the records: 5555555555\n",
      "The owner of the phone number you entered was: Rawan\n"
     ]
    }
   ],
   "source": [
    "while numFound != True: \n",
    "    userInput = input(\"Please Enter a number to search the records: \")\n",
    "    if len(userInput) != 10 or userInput.isdigit() != True :\n",
    "        print(\"This is an invalid number\")\n",
    "        continue \n",
    "    elif int(userInput) not in numbers: \n",
    "        print(\"Sorry, the number is not found\")\n",
    "        continue\n",
    "    else: \n",
    "        for key, value in phoneBook.items() :\n",
    "            if value == int(userInput):\n",
    "                print(\"The owner of the phone number you entered was: \" + key)\n",
    "                numFound = True\n",
    "                break\n",
    "    \n",
    "        "
   ]
  },
  {
   "cell_type": "code",
   "execution_count": null,
   "id": "d86956bd",
   "metadata": {},
   "outputs": [],
   "source": []
  }
 ],
 "metadata": {
  "kernelspec": {
   "display_name": "Python 3 (ipykernel)",
   "language": "python",
   "name": "python3"
  },
  "language_info": {
   "codemirror_mode": {
    "name": "ipython",
    "version": 3
   },
   "file_extension": ".py",
   "mimetype": "text/x-python",
   "name": "python",
   "nbconvert_exporter": "python",
   "pygments_lexer": "ipython3",
   "version": "3.11.4"
  }
 },
 "nbformat": 4,
 "nbformat_minor": 5
}
